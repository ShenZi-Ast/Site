{
  "nbformat": 4,
  "nbformat_minor": 0,
  "metadata": {
    "colab": {
      "provenance": [],
      "authorship_tag": "ABX9TyM7b+G02rOLxODGUMbXtf3n",
      "include_colab_link": true
    },
    "kernelspec": {
      "name": "python3",
      "display_name": "Python 3"
    },
    "language_info": {
      "name": "python"
    }
  },
  "cells": [
    {
      "cell_type": "markdown",
      "metadata": {
        "id": "view-in-github",
        "colab_type": "text"
      },
      "source": [
        "<a href=\"https://colab.research.google.com/github/ShenZi-Ast/Site/blob/main/DFT_energy_Pyscf_%26_PubChem.ipynb\" target=\"_parent\"><img src=\"https://colab.research.google.com/assets/colab-badge.svg\" alt=\"Open In Colab\"/></a>"
      ]
    },
    {
      "cell_type": "code",
      "execution_count": 3,
      "metadata": {
        "colab": {
          "base_uri": "https://localhost:8080/"
        },
        "id": "E6TVryl2uXCV",
        "outputId": "1c601207-023a-447f-88ba-b611304025ea"
      },
      "outputs": [
        {
          "output_type": "stream",
          "name": "stdout",
          "text": [
            "Collecting pyscf\n",
            "  Downloading pyscf-2.6.2-py3-none-manylinux_2_17_x86_64.manylinux2014_x86_64.whl.metadata (6.3 kB)\n",
            "Requirement already satisfied: numpy!=1.16,!=1.17,>=1.13 in /usr/local/lib/python3.10/dist-packages (from pyscf) (1.26.4)\n",
            "Requirement already satisfied: scipy!=1.5.0,!=1.5.1 in /usr/local/lib/python3.10/dist-packages (from pyscf) (1.13.1)\n",
            "Requirement already satisfied: h5py>=2.7 in /usr/local/lib/python3.10/dist-packages (from pyscf) (3.11.0)\n",
            "Requirement already satisfied: setuptools in /usr/local/lib/python3.10/dist-packages (from pyscf) (71.0.4)\n",
            "Downloading pyscf-2.6.2-py3-none-manylinux_2_17_x86_64.manylinux2014_x86_64.whl (48.6 MB)\n",
            "\u001b[2K   \u001b[90m━━━━━━━━━━━━━━━━━━━━━━━━━━━━━━━━━━━━━━━━\u001b[0m \u001b[32m48.6/48.6 MB\u001b[0m \u001b[31m11.2 MB/s\u001b[0m eta \u001b[36m0:00:00\u001b[0m\n",
            "\u001b[?25hInstalling collected packages: pyscf\n",
            "Successfully installed pyscf-2.6.2\n"
          ]
        }
      ],
      "source": [
        "pip install pyscf"
      ]
    },
    {
      "cell_type": "code",
      "source": [
        "pip install requests"
      ],
      "metadata": {
        "colab": {
          "base_uri": "https://localhost:8080/"
        },
        "id": "BjmSgCqMym73",
        "outputId": "a6e198a9-12ba-42d7-c752-e2b6022efae2"
      },
      "execution_count": 12,
      "outputs": [
        {
          "output_type": "stream",
          "name": "stdout",
          "text": [
            "Requirement already satisfied: requests in /usr/local/lib/python3.10/dist-packages (2.31.0)\n",
            "Requirement already satisfied: charset-normalizer<4,>=2 in /usr/local/lib/python3.10/dist-packages (from requests) (3.3.2)\n",
            "Requirement already satisfied: idna<4,>=2.5 in /usr/local/lib/python3.10/dist-packages (from requests) (3.7)\n",
            "Requirement already satisfied: urllib3<3,>=1.21.1 in /usr/local/lib/python3.10/dist-packages (from requests) (2.0.7)\n",
            "Requirement already satisfied: certifi>=2017.4.17 in /usr/local/lib/python3.10/dist-packages (from requests) (2024.7.4)\n"
          ]
        }
      ]
    },
    {
      "cell_type": "code",
      "source": [
        "import requests\n",
        "from pyscf import gto, dft\n",
        "\n",
        "def get_compound_coordinates(compound_name):\n",
        "    # Fetch the compound CID from PubChem\n",
        "    cid_url = f\"https://pubchem.ncbi.nlm.nih.gov/rest/pug/compound/name/{compound_name}/cids/JSON\"\n",
        "    response = requests.get(cid_url)\n",
        "    response.raise_for_status()  # Raise an error for bad status codes\n",
        "    cids = response.json().get('IdentifierList', {}).get('CID', [])\n",
        "\n",
        "    if not cids:\n",
        "        raise ValueError(f\"No CID found for compound: {compound_name}\")\n",
        "\n",
        "    cid = cids[0]\n",
        "\n",
        "    # Fetch the 3D conformer for the compound using its CID\n",
        "    conformer_url = f\"https://pubchem.ncbi.nlm.nih.gov/rest/pug/compound/cid/{cid}/record/JSON?record_type=3d\"\n",
        "    response = requests.get(conformer_url)\n",
        "    response.raise_for_status()\n",
        "    record = response.json()\n",
        "\n",
        "    # Print the JSON response for debugging\n",
        "    print(\"Raw JSON response:\", record)\n",
        "\n",
        "    compounds = record.get('PC_Compounds', [])\n",
        "\n",
        "    if not compounds:\n",
        "        raise ValueError(f\"No compound data found for CID: {cid}\")\n",
        "\n",
        "    record = compounds[0]\n",
        "\n",
        "    if 'coords' not in record or not record['coords']:\n",
        "        raise ValueError(f\"No 3D coordinates found for compound: {compound_name}\")\n",
        "\n",
        "    coords_data = record['coords'][0].get('conformers', [])\n",
        "    if not coords_data:\n",
        "        raise ValueError(f\"No conformers found for compound: {compound_name}\")\n",
        "\n",
        "    conformer = coords_data[0]\n",
        "    x_coords = conformer.get('x', [])\n",
        "    y_coords = conformer.get('y', [])\n",
        "    z_coords = conformer.get('z', [])\n",
        "\n",
        "    if not (x_coords and y_coords and z_coords):\n",
        "        raise ValueError(f\"No 3D coordinates found in conformer for compound: {compound_name}\")\n",
        "\n",
        "    atoms = record['atoms']['element']\n",
        "\n",
        "    # Create a string with atom symbols and their 3D coordinates\n",
        "    element_symbols = [\n",
        "        '', 'H', 'He',\n",
        "        'Li', 'Be', 'B', 'C', 'N', 'O', 'F', 'Ne',\n",
        "        'Na', 'Mg', 'Al', 'Si', 'P', 'S', 'Cl', 'Ar',\n",
        "        'K', 'Ca', 'Sc', 'Ti', 'V', 'Cr', 'Mn', 'Fe', 'Co', 'Ni', 'Cu', 'Zn',\n",
        "        'Ga', 'Ge', 'As', 'Se', 'Br', 'Kr'\n",
        "    ]\n",
        "\n",
        "    compound_coords = \"\"\n",
        "    for i in range(len(atoms)):\n",
        "        element = element_symbols[atoms[i]]\n",
        "        x = x_coords[i]\n",
        "        y = y_coords[i]\n",
        "        z = z_coords[i]\n",
        "        compound_coords += f\"{element} {x} {y} {z}; \"\n",
        "\n",
        "    return compound_coords.strip('; ')\n",
        "\n",
        "def calculate_dft(compound_name):\n",
        "    # Get the atomic coordinates for the given compound name\n",
        "    compound = get_compound_coordinates(compound_name)\n",
        "\n",
        "    # Create a molecule with the given compound coordinates\n",
        "    mol = gto.M(atom=compound, basis='sto-3g')\n",
        "\n",
        "    # Set up DFT calculation\n",
        "    mf = dft.RKS(mol)\n",
        "    mf.xc = 'PBE'  # Exchange-correlation functional\n",
        "    energy = mf.kernel()\n",
        "\n",
        "    print(f'The DFT calculated energy for {compound_name} ({compound}) is {energy} Hartree')\n",
        "\n",
        "    return energy\n",
        "\n",
        "# Example usage\n",
        "# Change the following line to specify your compound name\n",
        "compound_name = 'Tetrahydrocannabinol'  # Example for water\n",
        "\n",
        "energy = calculate_dft(compound_name)\n",
        "print(f'The DFT energy for {compound_name} is: {energy} Hartree')\n"
      ],
      "metadata": {
        "colab": {
          "base_uri": "https://localhost:8080/"
        },
        "id": "jbD8xhgRwJOr",
        "outputId": "113190f5-c6e3-4d80-cf5b-bd1236b053a9"
      },
      "execution_count": 22,
      "outputs": [
        {
          "output_type": "stream",
          "name": "stdout",
          "text": [
            "Raw JSON response: {'PC_Compounds': [{'id': {'id': {'cid': 16078}}, 'atoms': {'aid': [1, 2, 3, 4, 5, 6, 7, 8, 9, 10, 11, 12, 13, 14, 15, 16, 17, 18, 19, 20, 21, 22, 23, 24, 25, 26, 27, 28, 29, 30, 31, 32, 33, 34, 35, 36, 37, 38, 39, 40, 41, 42, 43, 44, 45, 46, 47, 48, 49, 50, 51, 52, 53], 'element': [8, 8, 6, 6, 6, 6, 6, 6, 6, 6, 6, 6, 6, 6, 6, 6, 6, 6, 6, 6, 6, 6, 6, 1, 1, 1, 1, 1, 1, 1, 1, 1, 1, 1, 1, 1, 1, 1, 1, 1, 1, 1, 1, 1, 1, 1, 1, 1, 1, 1, 1, 1, 1]}, 'bonds': {'aid1': [1, 1, 2, 2, 3, 3, 3, 3, 4, 4, 4, 5, 5, 6, 6, 6, 7, 7, 8, 8, 8, 9, 9, 10, 11, 12, 12, 12, 13, 13, 13, 14, 15, 15, 16, 16, 16, 17, 17, 18, 19, 19, 19, 20, 20, 20, 21, 21, 21, 22, 22, 22, 23, 23, 23], 'aid2': [5, 11, 14, 46, 4, 5, 6, 24, 7, 9, 25, 12, 13, 8, 26, 27, 11, 14, 10, 28, 29, 10, 30, 16, 15, 31, 32, 33, 34, 35, 36, 18, 17, 37, 38, 39, 40, 18, 19, 41, 20, 42, 43, 21, 44, 45, 22, 47, 48, 23, 49, 50, 51, 52, 53], 'order': [1, 1, 1, 1, 1, 1, 1, 1, 1, 1, 1, 1, 1, 1, 1, 1, 1, 2, 1, 1, 1, 2, 1, 1, 2, 1, 1, 1, 1, 1, 1, 1, 1, 1, 1, 1, 1, 2, 1, 1, 1, 1, 1, 1, 1, 1, 1, 1, 1, 1, 1, 1, 1, 1, 1]}, 'stereo': [{'tetrahedral': {'center': 3, 'above': 4, 'top': 6, 'bottom': 5, 'below': 24, 'parity': 2, 'type': 1}}, {'tetrahedral': {'center': 4, 'above': 3, 'top': 9, 'bottom': 7, 'below': 25, 'parity': 2, 'type': 1}}], 'coords': [{'type': [2, 5, 10], 'aid': [1, 2, 3, 4, 5, 6, 7, 8, 9, 10, 11, 12, 13, 14, 15, 16, 17, 18, 19, 20, 21, 22, 23, 24, 25, 26, 27, 28, 29, 30, 31, 32, 33, 34, 35, 36, 37, 38, 39, 40, 41, 42, 43, 44, 45, 46, 47, 48, 49, 50, 51, 52, 53], 'conformers': [{'x': [-0.5787, -0.3951, -2.7626, -2.1208, -1.89, -4.2255, -0.6628, -5.0238, -2.9653, -4.2731, 0.0013, -2.4784, -1.6307, 0.089, 1.3498, -5.0789, 2.0651, 1.437, 3.5035, 4.4822, 5.9447, 6.8816, 8.3316, -2.7678, -2.1239, -4.7027, -4.2831, -5.3102, -5.9523, -2.5384, -2.7071, -3.391, -1.7529, -1.0447, -2.5631, -1.0362, 1.8418, -5.5017, -5.9006, -4.4775, 2.0084, 3.7439, 3.6714, 4.3559, 4.2275, 0.2871, 6.2111, 6.0679, 6.7804, 6.6037, 8.4722, 8.9839, 8.6519], 'y': [-1.9919, 2.6957, -0.9279, 0.3156, -2.1827, -1.0355, 0.3922, 0.1842, 1.5429, 1.4881, -0.7572, -3.4921, -2.3886, 1.5706, -0.7035, 2.7258, 0.4844, 1.6193, 0.533, 0.1832, 0.18, -0.1965, -0.2391, -0.7687, 0.2077, -1.9361, -1.1023, 0.0339, 0.2416, 2.5337, -3.3855, -3.7904, -4.31, -3.3038, -2.5009, -1.5994, -1.6018, 2.689, 2.8083, 3.6379, 2.5365, 1.5317, -0.1492, 0.8995, -0.8046, 3.3882, 1.1713, -0.5326, 0.5287, -1.1779, -0.9806, -0.5086, 0.7361], 'z': [0.499, -0.8292, 0.1684, -0.4942, -0.0737, -0.2831, -0.081, 0.1928, -0.2199, 0.0931, 0.3763, 0.4747, -1.5769, -0.2281, 0.7501, 0.3636, 0.6346, 0.1358, 1.0232, -0.1131, 0.3428, -0.8055, -0.35, 1.2599, -1.5874, 0.117, -1.3765, 1.2415, -0.3877, -0.2992, 1.5409, -0.0496, 0.396, -1.7339, -2.1391, -2.0459, 1.1174, 1.3728, -0.3551, 0.2882, 0.0105, 1.4116, 1.8673, -0.9348, -0.5182, -0.8427, 0.7286, 1.1673, -1.6213, -1.2071, 0.4429, -1.1865, 0.0304], 'data': [{'urn': {'label': 'Conformer', 'name': 'ID', 'datatype': 11, 'version': '2.1', 'software': 'PubChem', 'source': 'ncbi.nlm.nih.gov', 'release': '2009.12.11'}, 'value': {'sval': '00003ECE00000001'}}, {'urn': {'label': 'Energy', 'name': 'MMFF94 NoEstat', 'datatype': 7, 'version': '1.6.0', 'software': 'Szybki', 'source': 'openeye.com', 'release': '2012.01.18'}, 'value': {'fval': 60.7777}}, {'urn': {'label': 'Feature', 'name': 'Self Overlap', 'datatype': 7, 'version': '2.1', 'software': 'PubChem', 'source': 'ncbi.nlm.nih.gov', 'release': '2012.01.18'}, 'value': {'fval': 40.642}}, {'urn': {'label': 'Fingerprint', 'name': 'Shape', 'datatype': 2, 'version': '2.1', 'software': 'PubChem', 'source': 'ncbi.nlm.nih.gov', 'release': '2012.11.26'}, 'value': {'slist': ['10165383 225 18339924806171102705', '10382601 240 18048040671259510633', '10411042 1 18049443948729322315', '10493431 412 18338516344554984201', '10730089 173 18334013874440565932', '10835480 77 18202277035968949360', '11036077 3 18411421670394297057', '11524674 6 17275099527418953630', '12011746 2 18336536179836846437', '12236239 1 17603303739767393064', '12390115 104 18270967847644556561', '12553582 1 18188753037897430376', '12643181 29 18341892975166310846', '13140716 1 18264760133252392913', '13288520 33 18411701010766986748', '13583140 156 15911906448163276298', '13914758 101 14548747161958230154', '14251752 14 18408886231404717962', '14617045 38 18412829071243300558', '14790565 3 18193840344755048457', '14856354 85 16443358575671451651', '15042514 8 18193839469489042379', '15183329 4 18408036304458040506', '15230672 131 18337954472976587790', '15927050 60 18411416177095358427', '16945 1 18335988674812882451', '17093844 174 18273210920189873138', '17492 89 17978228592760089778', '17804303 29 18340201994142308193', '19141452 34 18201999979727277718', '19591789 44 18121495748270077939', '20681677 155 18410007732753327432', '21033648 29 17774988120435619441', '21236236 1 18411980277750718648', '21267235 1 18335986466941132195', '21279426 13 18198909102027632254', '21781055 127 17772781358050478273', '23035841 295 18335137584109136624', '23402539 116 18341888597697746596', '23557571 272 18342462551831867566', '23559900 14 18272363214037070088', '2748010 2 18265048029938174023', '293599 30 18338796715176564465', '3004659 81 18334858329989337400', '335352 9 18408600383887400349', '34934 24 18334853879300769874', '350125 39 18409447003841680561', '4073 2 18262238932696286386', '437815 12 17847063281586398968', '484989 97 18191013712016142463', '5104073 3 18337379561169391800', '5265222 85 18270405022524488798', '559249 180 18412544306152485390', '59755656 215 18271528607417779894', '6328613 192 18408888460124116068', '7226269 152 18059859432677601073']}}, {'urn': {'label': 'Shape', 'name': 'Multipoles', 'datatype': 8, 'version': '1.8.1', 'software': 'OEShape', 'source': 'openeye.com', 'release': '2012.01.18'}, 'value': {'fvec': [461.59, 14.6, 2.92, 0.92, 33.68, 1.08, 0.12, -2.36, 1.41, -4.78, 0.15, 0.21, 0.22, 0]}}, {'urn': {'label': 'Shape', 'name': 'Self Overlap', 'datatype': 7, 'version': '2.1', 'software': 'PubChem', 'source': 'ncbi.nlm.nih.gov', 'release': '2012.01.18'}, 'value': {'fval': 968.897}}, {'urn': {'label': 'Shape', 'name': 'Volume', 'datatype': 7, 'version': '1.8.1', 'software': 'OEShape', 'source': 'openeye.com', 'release': '2012.01.18'}, 'value': {'fval': 260.6}}]}], 'data': [{'urn': {'label': 'Conformer', 'name': 'RMSD', 'datatype': 7, 'release': '2009.12.11'}, 'value': {'fval': 0.8}}, {'urn': {'label': 'Diverse Conformer', 'name': 'ID List', 'datatype': 6, 'release': '2010.05.05'}, 'value': {'ivec': [1, 10, 9, 2, 4, 3, 7, 8, 6, 5]}}]}], 'props': [{'urn': {'label': 'Charge', 'name': 'MMFF94 Partial', 'datatype': 2, 'version': '1.9.0', 'software': 'OEChem', 'source': 'openeye.com', 'release': '2012.11.26'}, 'value': {'slist': ['19', '1 -0.36', '10 -0.28', '11 0.08', '14 0.08', '15 -0.15', '16 0.14', '17 -0.14', '18 -0.15', '19 0.14', '2 -0.53', '30 0.15', '37 0.15', '4 0.28', '41 0.15', '46 0.45', '5 0.28', '7 -0.14', '8 0.14', '9 -0.29']}}, {'urn': {'label': 'Count', 'name': 'Effective Rotor', 'datatype': 7, 'version': '1.7.6', 'software': 'OEChem', 'source': 'ncbi.nlm.nih.gov', 'release': '2012.01.18'}, 'value': {'fval': 4.8}}, {'urn': {'label': 'Features', 'name': 'Pharmacophore', 'datatype': 2, 'parameters': 'ImplicitMillsDean merged', 'version': '1.8.3', 'software': 'OEShape', 'source': 'openeye.com', 'release': '2012.11.26'}, 'value': {'slist': ['8', '1 1 acceptor', '1 2 donor', '1 23 hydrophobe', '3 5 12 13 hydrophobe', '4 19 20 21 22 hydrophobe', '6 1 3 4 5 7 11 rings', '6 3 4 6 8 9 10 rings', '6 7 11 14 15 17 18 rings']}}], 'count': {'heavy_atom': 23, 'atom_chiral': 2, 'atom_chiral_def': 2, 'atom_chiral_undef': 0, 'bond_chiral': 0, 'bond_chiral_def': 0, 'bond_chiral_undef': 0, 'isotope_atom': 0, 'covalent_unit': 1, 'tautomers': 9}}]}\n",
            "converged SCF energy = -955.603114743867\n",
            "The DFT calculated energy for Tetrahydrocannabinol (O -0.5787 -1.9919 0.499; O -0.3951 2.6957 -0.8292; C -2.7626 -0.9279 0.1684; C -2.1208 0.3156 -0.4942; C -1.89 -2.1827 -0.0737; C -4.2255 -1.0355 -0.2831; C -0.6628 0.3922 -0.081; C -5.0238 0.1842 0.1928; C -2.9653 1.5429 -0.2199; C -4.2731 1.4881 0.0931; C 0.0013 -0.7572 0.3763; C -2.4784 -3.4921 0.4747; C -1.6307 -2.3886 -1.5769; C 0.089 1.5706 -0.2281; C 1.3498 -0.7035 0.7501; C -5.0789 2.7258 0.3636; C 2.0651 0.4844 0.6346; C 1.437 1.6193 0.1358; C 3.5035 0.533 1.0232; C 4.4822 0.1832 -0.1131; C 5.9447 0.18 0.3428; C 6.8816 -0.1965 -0.8055; C 8.3316 -0.2391 -0.35; H -2.7678 -0.7687 1.2599; H -2.1239 0.2077 -1.5874; H -4.7027 -1.9361 0.117; H -4.2831 -1.1023 -1.3765; H -5.3102 0.0339 1.2415; H -5.9523 0.2416 -0.3877; H -2.5384 2.5337 -0.2992; H -2.7071 -3.3855 1.5409; H -3.391 -3.7904 -0.0496; H -1.7529 -4.31 0.396; H -1.0447 -3.3038 -1.7339; H -2.5631 -2.5009 -2.1391; H -1.0362 -1.5994 -2.0459; H 1.8418 -1.6018 1.1174; H -5.5017 2.689 1.3728; H -5.9006 2.8083 -0.3551; H -4.4775 3.6379 0.2882; H 2.0084 2.5365 0.0105; H 3.7439 1.5317 1.4116; H 3.6714 -0.1492 1.8673; H 4.3559 0.8995 -0.9348; H 4.2275 -0.8046 -0.5182; H 0.2871 3.3882 -0.8427; H 6.2111 1.1713 0.7286; H 6.0679 -0.5326 1.1673; H 6.7804 0.5287 -1.6213; H 6.6037 -1.1779 -1.2071; H 8.4722 -0.9806 0.4429; H 8.9839 -0.5086 -1.1865; H 8.6519 0.7361 0.0304) is -955.6031147438666 Hartree\n",
            "The DFT energy for Tetrahydrocannabinol is: -955.6031147438666 Hartree\n"
          ]
        }
      ]
    }
  ]
}